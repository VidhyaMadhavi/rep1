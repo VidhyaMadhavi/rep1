{
 "cells": [
  {
   "cell_type": "markdown",
   "metadata": {},
   "source": [
    "# Measure of Spread"
   ]
  },
  {
   "cell_type": "markdown",
   "metadata": {},
   "source": [
    "Measures of spread (dispersion) are statistics that describe how data varies.\n",
    "\n",
    "While measures of center give us an idea of the typical value, measures of spread give us a sense of how much the data tends to diverge from the typical value."
   ]
  },
  {
   "cell_type": "markdown",
   "metadata": {},
   "source": [
    "#### mtcars {datasets}\n",
    "\n",
    "#### Description\n",
    "The data was extracted from the 1974 Motor Trend US magazine, and comprises fuel consumption and 10 aspects of automobile design and performance for 32 automobiles (1973–74 models).\n",
    "\n",
    "Format\n",
    "A data frame with 32 observations on 11 variables.\n",
    "\n",
    "    [, 1]\tmpg\tMiles/(US) gallon\n",
    "    [, 2]\tcyl\tNumber of cylinders\n",
    "    [, 3]\tdisp\tDisplacement (cu.in.)\n",
    "    [, 4]\thp\tGross horsepower\n",
    "    [, 5]\tdrat\tRear axle ratio\n",
    "    [, 6]\twt\tWeight (1000 lbs)\n",
    "    [, 7]\tqsec\t1/4 mile time\n",
    "    [, 8]\tvs\tV/S\n",
    "    [, 9]\tam\tTransmission (0 = automatic, 1 = manual)\n",
    "    [,10]\tgear\tNumber of forward gears\n",
    "    [,11]\tcarb\tNumber of carburetors"
   ]
  },
  {
   "cell_type": "markdown",
   "metadata": {},
   "source": [
    "# Range"
   ]
  },
  {
   "cell_type": "markdown",
   "metadata": {},
   "source": [
    "One of the simplest measures of spread is the range.\n",
    "Range is the distance between the maximum and minimum observations"
   ]
  },
  {
   "cell_type": "code",
   "execution_count": 2,
   "metadata": {},
   "outputs": [
    {
     "name": "stderr",
     "output_type": "stream",
     "text": [
      "C:\\ProgramData\\Anaconda3\\lib\\site-packages\\ggplot\\utils.py:81: FutureWarning: pandas.tslib is deprecated and will be removed in a future version.\n",
      "You can access Timestamp as pandas.Timestamp\n",
      "  pd.tslib.Timestamp,\n",
      "C:\\ProgramData\\Anaconda3\\lib\\site-packages\\ggplot\\stats\\smoothers.py:4: FutureWarning: The pandas.lib module is deprecated and will be removed in a future version. These are private functions and can be accessed from pandas._libs.lib instead\n",
      "  from pandas.lib import Timestamp\n",
      "C:\\ProgramData\\Anaconda3\\lib\\site-packages\\statsmodels\\compat\\pandas.py:56: FutureWarning: The pandas.core.datetools module is deprecated and will be removed in a future version. Please use the pandas.tseries module instead.\n",
      "  from pandas.core import datetools\n"
     ]
    }
   ],
   "source": [
    "%matplotlib inline\n",
    "import numpy as np\n",
    "import pandas as pd\n",
    "import matplotlib.pyplot as plt\n",
    "from ggplot import mtcars #mtcars is a dataframe with data"
   ]
  },
  {
   "cell_type": "code",
   "execution_count": 4,
   "metadata": {},
   "outputs": [
    {
     "data": {
      "text/plain": [
       "(32, 12)"
      ]
     },
     "execution_count": 4,
     "metadata": {},
     "output_type": "execute_result"
    }
   ],
   "source": [
    "# mtcars.head()\n",
    "mtcars.shape"
   ]
  },
  {
   "cell_type": "code",
   "execution_count": 5,
   "metadata": {},
   "outputs": [
    {
     "data": {
      "text/plain": [
       "23.5"
      ]
     },
     "execution_count": 5,
     "metadata": {},
     "output_type": "execute_result"
    }
   ],
   "source": [
    "\n",
    "max(mtcars[\"mpg\"]) - min(mtcars[\"mpg\"])"
   ]
  },
  {
   "cell_type": "markdown",
   "metadata": {},
   "source": [
    "# Scale: Variance\n",
    "​\n",
    "• Average of squared deviations of values from the mean\n",
    "- The variance of a distribution is the average of the squared deviations (differences) from the mean. \n",
    "- Use df.var() to check variance:"
   ]
  },
  {
   "cell_type": "markdown",
   "metadata": {},
   "source": [
    "<img src='./images/variance.png'>"
   ]
  },
  {
   "cell_type": "code",
   "execution_count": 6,
   "metadata": {},
   "outputs": [
    {
     "name": "stdout",
     "output_type": "stream",
     "text": [
      "A    9.166667\n",
      "B    1.246986\n",
      "dtype: float64\n",
      "9.166666666666666\n",
      "1.2469863391836116\n"
     ]
    }
   ],
   "source": [
    "    import numpy as np\n",
    "    import pandas as pd\n",
    "    df = pd.DataFrame({'A' : range(10), 'B' : np.random.randn(10)})\n",
    "    df\n",
    "    print (df.var())\n",
    "    print (df['A'].var())\n",
    "    print (df['B'].var()) "
   ]
  },
  {
   "cell_type": "code",
   "execution_count": 2,
   "metadata": {
    "collapsed": true
   },
   "outputs": [],
   "source": [
    "#code here\n",
    "\n"
   ]
  },
  {
   "cell_type": "code",
   "execution_count": 18,
   "metadata": {
    "collapsed": true
   },
   "outputs": [],
   "source": [
    "# mtcars[\"mpg\"].var()"
   ]
  },
  {
   "cell_type": "code",
   "execution_count": 1,
   "metadata": {},
   "outputs": [
    {
     "name": "stderr",
     "output_type": "stream",
     "text": [
      "C:\\ProgramData\\Anaconda3\\lib\\site-packages\\ggplot\\utils.py:81: FutureWarning: pandas.tslib is deprecated and will be removed in a future version.\n",
      "You can access Timestamp as pandas.Timestamp\n",
      "  pd.tslib.Timestamp,\n",
      "C:\\ProgramData\\Anaconda3\\lib\\site-packages\\ggplot\\stats\\smoothers.py:4: FutureWarning: The pandas.lib module is deprecated and will be removed in a future version. These are private functions and can be accessed from pandas._libs.lib instead\n",
      "  from pandas.lib import Timestamp\n",
      "C:\\ProgramData\\Anaconda3\\lib\\site-packages\\statsmodels\\compat\\pandas.py:56: FutureWarning: The pandas.core.datetools module is deprecated and will be removed in a future version. Please use the pandas.tseries module instead.\n",
      "  from pandas.core import datetools\n"
     ]
    }
   ],
   "source": []
  },
  {
   "cell_type": "markdown",
   "metadata": {},
   "source": [
    "## Standard Deviation\n",
    "- Standard deviations are simply the square root of the variance"
   ]
  },
  {
   "cell_type": "markdown",
   "metadata": {},
   "source": [
    "- Standard deviation can be more interpretable than variance, since the standard deviation is expressed in terms of the same units as the variable in question while variance is expressed in terms of units squared. \n",
    "- Use df.std() to check the standard deviation:"
   ]
  },
  {
   "cell_type": "markdown",
   "metadata": {},
   "source": [
    "<img src='./images/sd.png'>"
   ]
  },
  {
   "cell_type": "code",
   "execution_count": 7,
   "metadata": {},
   "outputs": [
    {
     "name": "stdout",
     "output_type": "stream",
     "text": [
      "A    3.027650\n",
      "B    0.844274\n",
      "dtype: float64\n",
      "3.0276503540974917\n",
      "0.8442738471038684\n"
     ]
    }
   ],
   "source": [
    "    import numpy as np\n",
    "    import pandas as pd\n",
    "    df = pd.DataFrame({'A' : range(10), 'B' : np.random.randn(10)})\n",
    "    df\n",
    "    print (df.std())\n",
    "    print (df['A'].std())\n",
    "    print (df['B'].std()) "
   ]
  },
  {
   "cell_type": "code",
   "execution_count": 4,
   "metadata": {
    "collapsed": true
   },
   "outputs": [],
   "source": [
    "#code here\n",
    "\n"
   ]
  },
  {
   "cell_type": "code",
   "execution_count": 8,
   "metadata": {},
   "outputs": [
    {
     "data": {
      "text/plain": [
       "6.026948052089105"
      ]
     },
     "execution_count": 8,
     "metadata": {},
     "output_type": "execute_result"
    }
   ],
   "source": [
    "\n",
    "mtcars[\"mpg\"].std()"
   ]
  },
  {
   "cell_type": "markdown",
   "metadata": {},
   "source": [
    "# Measures of Dispersion"
   ]
  },
  {
   "cell_type": "markdown",
   "metadata": {},
   "source": [
    "    The median represents the 50th percentile of a data set. \n",
    "    A summary of several percentiles can be used to describe a variable's spread. \n",
    "    The first quartile is the data point at the 25th percentile, and the third quartile is the data point at the 75th percentile. The 50th percentile is the median.\n",
    "    \n",
    "    We can extract the \n",
    "    - minimum value (0th percentile), \n",
    "    - first quartile (25th percentile), \n",
    "    - median, \n",
    "    - third quartile(75th percentile) and \n",
    "    - maximum value (100th percentile) \n",
    "\n",
    "### df.quantile()"
   ]
  },
  {
   "cell_type": "markdown",
   "metadata": {},
   "source": [
    "# Quartiles and IQR"
   ]
  },
  {
   "cell_type": "markdown",
   "metadata": {},
   "source": [
    "<img src='./images/iqr.png'>"
   ]
  },
  {
   "cell_type": "markdown",
   "metadata": {},
   "source": [
    "- • The ﬁrst quartile, Q1, is the value for which 25% of the observations are smaller and 75% are larger\n",
    "- • Q2 is the same as the median (50% are smaller, 50% are larger)\n",
    "- • Only 25% of the observations are greater than the third quartile\n",
    "\n",
    "- ** Box plots may also have lines extending vertically from the boxes (whiskers) indicating variability outside the upper and lower quartiles The \"whiskers\" are the two opposite ends of the data.**"
   ]
  },
  {
   "cell_type": "markdown",
   "metadata": {},
   "source": [
    "<img src='./images/boxplot.png'>"
   ]
  },
  {
   "cell_type": "markdown",
   "metadata": {},
   "source": [
    "<img src = './images/iqr1.png'>"
   ]
  },
  {
   "cell_type": "code",
   "execution_count": 9,
   "metadata": {},
   "outputs": [
    {
     "data": {
      "text/html": [
       "<div>\n",
       "<style>\n",
       "    .dataframe thead tr:only-child th {\n",
       "        text-align: right;\n",
       "    }\n",
       "\n",
       "    .dataframe thead th {\n",
       "        text-align: left;\n",
       "    }\n",
       "\n",
       "    .dataframe tbody tr th {\n",
       "        vertical-align: top;\n",
       "    }\n",
       "</style>\n",
       "<table border=\"1\" class=\"dataframe\">\n",
       "  <thead>\n",
       "    <tr style=\"text-align: right;\">\n",
       "      <th></th>\n",
       "      <th>name</th>\n",
       "      <th>mpg</th>\n",
       "      <th>cyl</th>\n",
       "      <th>disp</th>\n",
       "      <th>hp</th>\n",
       "      <th>drat</th>\n",
       "      <th>wt</th>\n",
       "      <th>qsec</th>\n",
       "      <th>vs</th>\n",
       "      <th>am</th>\n",
       "      <th>gear</th>\n",
       "      <th>carb</th>\n",
       "    </tr>\n",
       "  </thead>\n",
       "  <tbody>\n",
       "    <tr>\n",
       "      <th>0</th>\n",
       "      <td>Mazda RX4</td>\n",
       "      <td>21.0</td>\n",
       "      <td>6</td>\n",
       "      <td>160.0</td>\n",
       "      <td>110</td>\n",
       "      <td>3.90</td>\n",
       "      <td>2.620</td>\n",
       "      <td>16.46</td>\n",
       "      <td>0</td>\n",
       "      <td>1</td>\n",
       "      <td>4</td>\n",
       "      <td>4</td>\n",
       "    </tr>\n",
       "    <tr>\n",
       "      <th>1</th>\n",
       "      <td>Mazda RX4 Wag</td>\n",
       "      <td>21.0</td>\n",
       "      <td>6</td>\n",
       "      <td>160.0</td>\n",
       "      <td>110</td>\n",
       "      <td>3.90</td>\n",
       "      <td>2.875</td>\n",
       "      <td>17.02</td>\n",
       "      <td>0</td>\n",
       "      <td>1</td>\n",
       "      <td>4</td>\n",
       "      <td>4</td>\n",
       "    </tr>\n",
       "    <tr>\n",
       "      <th>2</th>\n",
       "      <td>Datsun 710</td>\n",
       "      <td>22.8</td>\n",
       "      <td>4</td>\n",
       "      <td>108.0</td>\n",
       "      <td>93</td>\n",
       "      <td>3.85</td>\n",
       "      <td>2.320</td>\n",
       "      <td>18.61</td>\n",
       "      <td>1</td>\n",
       "      <td>1</td>\n",
       "      <td>4</td>\n",
       "      <td>1</td>\n",
       "    </tr>\n",
       "    <tr>\n",
       "      <th>3</th>\n",
       "      <td>Hornet 4 Drive</td>\n",
       "      <td>21.4</td>\n",
       "      <td>6</td>\n",
       "      <td>258.0</td>\n",
       "      <td>110</td>\n",
       "      <td>3.08</td>\n",
       "      <td>3.215</td>\n",
       "      <td>19.44</td>\n",
       "      <td>1</td>\n",
       "      <td>0</td>\n",
       "      <td>3</td>\n",
       "      <td>1</td>\n",
       "    </tr>\n",
       "    <tr>\n",
       "      <th>4</th>\n",
       "      <td>Hornet Sportabout</td>\n",
       "      <td>18.7</td>\n",
       "      <td>8</td>\n",
       "      <td>360.0</td>\n",
       "      <td>175</td>\n",
       "      <td>3.15</td>\n",
       "      <td>3.440</td>\n",
       "      <td>17.02</td>\n",
       "      <td>0</td>\n",
       "      <td>0</td>\n",
       "      <td>3</td>\n",
       "      <td>2</td>\n",
       "    </tr>\n",
       "  </tbody>\n",
       "</table>\n",
       "</div>"
      ],
      "text/plain": [
       "                name   mpg  cyl   disp   hp  drat     wt   qsec  vs  am  gear  \\\n",
       "0          Mazda RX4  21.0    6  160.0  110  3.90  2.620  16.46   0   1     4   \n",
       "1      Mazda RX4 Wag  21.0    6  160.0  110  3.90  2.875  17.02   0   1     4   \n",
       "2         Datsun 710  22.8    4  108.0   93  3.85  2.320  18.61   1   1     4   \n",
       "3     Hornet 4 Drive  21.4    6  258.0  110  3.08  3.215  19.44   1   0     3   \n",
       "4  Hornet Sportabout  18.7    8  360.0  175  3.15  3.440  17.02   0   0     3   \n",
       "\n",
       "   carb  \n",
       "0     4  \n",
       "1     4  \n",
       "2     1  \n",
       "3     1  \n",
       "4     2  "
      ]
     },
     "execution_count": 9,
     "metadata": {},
     "output_type": "execute_result"
    }
   ],
   "source": [
    "mtcars.head()"
   ]
  },
  {
   "cell_type": "code",
   "execution_count": 12,
   "metadata": {},
   "outputs": [
    {
     "data": {
      "text/plain": [
       "[10.4, 15.425, 19.2, 22.8, 33.9]"
      ]
     },
     "execution_count": 12,
     "metadata": {},
     "output_type": "execute_result"
    }
   ],
   "source": [
    "five_num = [mtcars[\"mpg\"].quantile(0),   \n",
    "            mtcars[\"mpg\"].quantile(0.25),\n",
    "            mtcars[\"mpg\"].quantile(0.50),\n",
    "            mtcars[\"mpg\"].quantile(0.75),\n",
    "            mtcars[\"mpg\"].quantile(1)]\n",
    "\n",
    "five_num\n"
   ]
  },
  {
   "cell_type": "code",
   "execution_count": 20,
   "metadata": {},
   "outputs": [
    {
     "name": "stdout",
     "output_type": "stream",
     "text": [
      "0.25    15.425\n",
      "0.50    19.200\n",
      "0.75    22.800\n",
      "1.00    33.900\n",
      "Name: mpg, dtype: float64\n"
     ]
    }
   ],
   "source": [
    "%matplotlib inline\n",
    "import numpy as np\n",
    "import pandas as pd\n",
    "import matplotlib.pyplot as plt\n",
    "from ggplot import mtcars #mtcars is a dataframe with data\n",
    "\n",
    "print(mtcars[\"mpg\"].quantile([.25, .5, .75, 1.]))\n",
    "mtcars.boxplot(column='mpg')"
   ]
  },
  {
   "cell_type": "code",
   "execution_count": 14,
   "metadata": {},
   "outputs": [],
   "source": [
    "# print (mtcars.quantile())\n",
    "# print (mtcars.quantile([.25, .5, .75, .1]))\n",
    "\n"
   ]
  },
  {
   "cell_type": "code",
   "execution_count": 13,
   "metadata": {},
   "outputs": [
    {
     "data": {
      "text/plain": [
       "<matplotlib.axes._subplots.AxesSubplot at 0x2acba7b0d68>"
      ]
     },
     "execution_count": 13,
     "metadata": {},
     "output_type": "execute_result"
    },
    {
     "data": {
      "image/png": "[encoded data removed]",
      "text/plain": [
       "<matplotlib.figure.Figure at 0x2acba7b0400>"
      ]
     },
     "metadata": {},
     "output_type": "display_data"
    }
   ],
   "source": [
    "# print (mtcars[\"mpg\"].quantile([.25, .5, .75, 1.]))\n",
    "mtcars.boxplot(column='mpg')\n"
   ]
  },
  {
   "cell_type": "code",
   "execution_count": 18,
   "metadata": {},
   "outputs": [
    {
     "data": {
      "text/plain": [
       "Text(1.5,10,'BoxPlot')"
      ]
     },
     "execution_count": 18,
     "metadata": {},
     "output_type": "execute_result"
    },
    {
     "data": {
      "image/png": "[encoded data removed]",
      "text/plain": [
       "<matplotlib.figure.Figure at 0x2acbb006cf8>"
      ]
     },
     "metadata": {},
     "output_type": "display_data"
    }
   ],
   "source": [
    "mtcars.boxplot(column=\"mpg\",\n",
    "               return_type='axes',\n",
    "               figsize=(8,8))\n",
    "plt.text(x=0.5, y=10, s= \"BoxPlot\")\n",
    "plt.text(x=0.74, y=22.25, s=\"3rd Quartile\")\n",
    "plt.text(x=0.8, y=18.75, s=\"Median\")\n",
    "plt.text(x=0.75, y=15.5, s=\"1st Quartile\")\n",
    "plt.text(x=0.9, y=10, s=\"Min\")\n",
    "plt.text(x=0.9, y=33.5, s=\"Max\")\n",
    "plt.text(x=0.7, y=19.5, s=\"IQR\", rotation=90, size=25)\n",
    "plt.text(x=1.5, y=10, s= \"BoxPlot\")"
   ]
  },
  {
   "cell_type": "code",
   "execution_count": 52,
   "metadata": {
    "collapsed": true
   },
   "outputs": [],
   "source": [
    "#     import numpy as np\n",
    "#     import pandas as pd\n",
    "#     import matplotlib.pyplot as plt\n",
    "#     %matplotlib inline\n",
    "#     df = pd.DataFrame({'A' : range(10)})\n",
    "#     print(df)\n",
    "#     print (\"----------------------------------------\")\n",
    "# #     print (df.quantile())\n",
    "#     print (df.quantile([.25, .5, .75, .1]))\n",
    "\n",
    "# #     print(\"-------------------\")\n",
    "# #     print (df['A'].quantile([.25, .5, .75, 1.]))\n",
    "#     df.boxplot(column='A')\n",
    "\n"
   ]
  },
  {
   "cell_type": "code",
   "execution_count": 6,
   "metadata": {
    "collapsed": true
   },
   "outputs": [],
   "source": [
    "# code here\n",
    "\n"
   ]
  },
  {
   "cell_type": "markdown",
   "metadata": {},
   "source": [
    "    import numpy as np\n",
    "    import pandas as pd\n",
    "    import matplotlib.pyplot as plt\n",
    "    %matplotlib inline\n",
    "    df = pd.DataFrame({'A' : range(10), 'B' : np.random.randn(10)})\n",
    "    print(df)\n",
    "    # print (df.quantile())\n",
    "    # print (df.quantile([.25, .5, .75, .1]))\n",
    "\n",
    "    fig, axes = plt.subplots(nrows=2, ncols=1)\n",
    "    print (fig, axes[0])\n",
    "    print(\"-------------------\")\n",
    "    print (df['A'].quantile([.25, .5, .75, 1.]))\n",
    "    df.boxplot(column='A',  ax=axes[0], figsize=(12, 10))\n",
    "\n",
    "    print(\"-------------------\")\n",
    "\n",
    "    print (df['B'].quantile([.25, .5, .75, 1.]))\n",
    "    df.boxplot(column='B',  ax=axes[1], figsize=(12, 10))"
   ]
  },
  {
   "cell_type": "code",
   "execution_count": 7,
   "metadata": {
    "collapsed": true
   },
   "outputs": [],
   "source": [
    "# code here\n",
    "\n"
   ]
  },
  {
   "cell_type": "markdown",
   "metadata": {},
   "source": [
    "    #Box plots using seaborn\n",
    "    import numpy as np\n",
    "    import pandas as pd\n",
    "    import matplotlib.pyplot as plt\n",
    "    import seaborn as sns\n",
    "    %matplotlib inline\n",
    "    df = pd.DataFrame({'A' : range(10), 'B' : np.random.randn(10)})\n",
    "    print(df)\n",
    "\n",
    "    # print(\"-------------------\")\n",
    "    # print (df['A'].quantile([.25, .5, .75, 1.]))\n",
    "    # sns.boxplot( y=df[\"A\"] )\n",
    "\n",
    "    print(\"-------------------\")\n",
    "    print (df['B'].quantile([.25, .5, .75, 1.]))\n",
    "    sns.boxplot(y=df['B'])"
   ]
  },
  {
   "cell_type": "code",
   "execution_count": 8,
   "metadata": {
    "collapsed": true
   },
   "outputs": [],
   "source": [
    "# code here\n",
    "\n"
   ]
  },
  {
   "cell_type": "code",
   "execution_count": 21,
   "metadata": {},
   "outputs": [
    {
     "data": {
      "image/png": "[encoded data removed]",
      "text/plain": [
       "<matplotlib.figure.Figure at 0x2acba7b0390>"
      ]
     },
     "metadata": {},
     "output_type": "display_data"
    }
   ],
   "source": [
    "    # library & dataset\n",
    "    import seaborn as sns\n",
    "    import matplotlib.pyplot as plt\n",
    "    df = sns.load_dataset('iris')\n",
    "    df.head()\n",
    "\n",
    "    # Make boxplot for one group only\n",
    "    sns.boxplot( y=df[\"sepal_length\"] )\n",
    "    plt.show()"
   ]
  },
  {
   "cell_type": "code",
   "execution_count": 53,
   "metadata": {
    "collapsed": true
   },
   "outputs": [],
   "source": [
    "# code here\n",
    "\n"
   ]
  },
  {
   "cell_type": "code",
   "execution_count": null,
   "metadata": {
    "collapsed": true
   },
   "outputs": [],
   "source": [
    "    #One numerical variable, and several groups\n",
    "    # library & dataset\n",
    "    import seaborn as sns\n",
    "    df = sns.load_dataset('iris')\n",
    "    print (df.head())\n",
    "\n",
    "    sns.boxplot( x=df[\"species\"], y=df[\"sepal_length\"] )\n",
    "    #sns.plt.show()\n"
   ]
  },
  {
   "cell_type": "code",
   "execution_count": 10,
   "metadata": {
    "collapsed": true
   },
   "outputs": [],
   "source": [
    "#code here\n",
    "\n"
   ]
  },
  {
   "cell_type": "code",
   "execution_count": 22,
   "metadata": {},
   "outputs": [
    {
     "data": {
      "text/plain": [
       "[setosa, setosa, setosa, setosa, setosa, ..., virginica, virginica, virginica, virginica, virginica]\n",
       "Length: 150\n",
       "Categories (3, object): [setosa, versicolor, virginica]"
      ]
     },
     "execution_count": 22,
     "metadata": {},
     "output_type": "execute_result"
    }
   ],
   "source": [
    "# x = pd.Categorical(df[\"species\"])\n",
    "# x"
   ]
  },
  {
   "cell_type": "code",
   "execution_count": 24,
   "metadata": {},
   "outputs": [],
   "source": [
    "# sns.boxplot( x, y=df[\"sepal_length\"] )"
   ]
  },
  {
   "cell_type": "code",
   "execution_count": null,
   "metadata": {
    "collapsed": true
   },
   "outputs": [],
   "source": []
  }
 ],
 "metadata": {
  "kernelspec": {
   "display_name": "Python 3",
   "language": "python",
   "name": "python3"
  },
  "language_info": {
   "codemirror_mode": {
    "name": "ipython",
    "version": 3
   },
   "file_extension": ".py",
   "mimetype": "text/x-python",
   "name": "python",
   "nbconvert_exporter": "python",
   "pygments_lexer": "ipython3",
   "version": "3.6.3"
  }
 },
 "nbformat": 4,
 "nbformat_minor": 2
}
